{
 "cells": [
  {
   "cell_type": "markdown",
   "metadata": {},
   "source": [
    "## <center>Sprawozdanie 5</center>\n",
    "<center>Adrian Janakiewicz</center>"
   ]
  },
  {
   "cell_type": "markdown",
   "metadata": {},
   "source": [
    "***Imports***"
   ]
  },
  {
   "cell_type": "code",
   "execution_count": 1,
   "metadata": {},
   "outputs": [],
   "source": [
    "from math import cos \n",
    "import numpy as np\n",
    "import scipy.sparse \n",
    "import scipy.linalg as sc_la\n",
    "import scipy.sparse.linalg as sc_sp\n",
    "import time\n",
    "import matplotlib.pyplot as plt"
   ]
  },
  {
   "cell_type": "markdown",
   "metadata": {},
   "source": [
    "<a id='zad1'></a>\n",
    "***Zadanie 1.***  "
   ]
  },
  {
   "cell_type": "code",
   "execution_count": 2,
   "metadata": {},
   "outputs": [
    {
     "name": "stdout",
     "output_type": "stream",
     "text": [
      "Rozwiazanie układu dla wektora\n",
      " [[2.    ]\n",
      " [2.0001]] to \n",
      "[[1.]\n",
      " [1.]]\n",
      "Rozwiazanie układu dla wektora\n",
      " [[2]\n",
      " [2]] to \n",
      "[[2.]\n",
      " [0.]]\n",
      "Rozwiązanie macierzy zmienia się dyrastycznie wraz z niewielką zmianą\n",
      "wektora wynikowego. Wynika to z dużego wskaźnika uwarunkowania\n",
      "dla macieczy A. cond(A) = 40004.0001000044 przez co badane równanie\n",
      "jest niestabilne.\n"
     ]
    }
   ],
   "source": [
    "A  = np.array([[1,1],[1,1.0001]])\n",
    "b1 = np.array([[2],[2.0001]])\n",
    "b2 = np.array([[2],[2]])\n",
    "\n",
    "cond_A = np.linalg.cond(A, p=1)\n",
    "result = [np.dot(np.linalg.inv(A), x) for x in [b1, b2]]\n",
    "for res, b in zip(result, [b1, b2]):\n",
    "    print(\"Rozwiazanie układu dla wektora\\n {0} to \\n{1}\".format(b, res))\n",
    "    \n",
    "print(\"Rozwiązanie macierzy zmienia się dyrastycznie wraz z niewielką zmianą\\nwektora wynikowego. Wynika to z dużego wskaźnika uwarunkowania\\ndla macieczy A. cond(A) = {0} przez co badane równanie\\njest niestabilne.\".format(cond_A))"
   ]
  },
  {
   "cell_type": "markdown",
   "metadata": {},
   "source": [
    "<a id='zad2'></a>\n",
    "***Zadanie 2.***   "
   ]
  },
  {
   "cell_type": "code",
   "execution_count": 3,
   "metadata": {},
   "outputs": [],
   "source": [
    "n = 8\n",
    "x = []\n",
    "for i in range(1, n+1):\n",
    "    for j in range(1, n+1):\n",
    "        x.append(1/(i+j-1))\n",
    "\n",
    "A = np.reshape(np.array(x),(n,n))\n",
    "cond_col_A  = np.linalg.cond(A, p = 1)\n",
    "cond_row_A  = np.linalg.cond(A, p = np.inf)\n",
    "cond_spec_A = np.linalg.cond(A, p = 2)"
   ]
  },
  {
   "cell_type": "code",
   "execution_count": 4,
   "metadata": {},
   "outputs": [
    {
     "name": "stdout",
     "output_type": "stream",
     "text": [
      "Wartość wskażnika uwarunkowania w normie kolumnowej: 33872789110.107353\n",
      "Wartość wskażnika uwarunkowania w normie wierszowej: 33872789109.75766\n",
      "Wartość wskażnika uwarunkowania w normie spektralnej: 15257575566.627958\n",
      "Na tej podstawie mozna stwierdzić, że macierz Hilberta jest macierzą źle uwarunkowaną.\n"
     ]
    }
   ],
   "source": [
    "print(\"Wartość wskażnika uwarunkowania w normie kolumnowej: {}\".format(cond_col_A))\n",
    "print(\"Wartość wskażnika uwarunkowania w normie wierszowej: {}\".format(cond_row_A))\n",
    "print(\"Wartość wskażnika uwarunkowania w normie spektralnej: {}\".format(cond_spec_A))\n",
    "print(\"Na tej podstawie mozna stwierdzić, że macierz Hilberta jest macierzą źle uwarunkowaną.\")"
   ]
  },
  {
   "cell_type": "markdown",
   "metadata": {},
   "source": [
    "<a id='zad3'></a>\n",
    "***Zadanie 3.***  "
   ]
  },
  {
   "cell_type": "code",
   "execution_count": 5,
   "metadata": {},
   "outputs": [],
   "source": [
    "n = 20\n",
    "t = np.linspace(0, 1, n)\n",
    "b = np.array([cos(4*x) for x in t])\n",
    "A = np.fliplr(np.vander(t, n))\n",
    "times = []\n",
    "iterations = 10000"
   ]
  },
  {
   "cell_type": "code",
   "execution_count": 6,
   "metadata": {},
   "outputs": [],
   "source": [
    "# Ad. 1\n",
    "x_1 = [] # First solution\n",
    "start = time.time()\n",
    "for i in range(iterations):\n",
    "    x_1 = np.linalg.solve(A, b)\n",
    "end = time.time()\n",
    "times.append(end-start)"
   ]
  },
  {
   "cell_type": "code",
   "execution_count": 7,
   "metadata": {},
   "outputs": [],
   "source": [
    "# Ad. 2\n",
    "x_2 = [] # Second solution\n",
    "start = time.time()\n",
    "for i in range(iterations):\n",
    "    Q, R = np.linalg.qr(A)\n",
    "    x_2 = sc_la.solve_triangular(R, np.dot(np.transpose(Q), b))\n",
    "end = time.time()\n",
    "times.append(end-start)"
   ]
  },
  {
   "cell_type": "code",
   "execution_count": 8,
   "metadata": {},
   "outputs": [],
   "source": [
    "# Ad. 3\n",
    "x_3 = [] # Third solution\n",
    "start = time.time()\n",
    "for i in range(iterations):\n",
    "    x_3, trash1, trash2, trash3 = np.linalg.lstsq(A, b, rcond=None)\n",
    "end = time.time()\n",
    "times.append(end-start)\n",
    "# Dla macierzy kwadratowej ta metoda zwraca, z dokładnoscią do błędu zaokrąglenia, dokładna wartość."
   ]
  },
  {
   "cell_type": "code",
   "execution_count": 9,
   "metadata": {},
   "outputs": [
    {
     "name": "stdout",
     "output_type": "stream",
     "text": [
      "Porównanie czasów obliczeń:\n",
      " 1.numpy.solve: 5.2018141746521e-05;\n",
      " 2.Metoda QR:   0.0003470967531204224;\n",
      " 3.numpy.lstsq: 0.0002512566328048706;\n"
     ]
    }
   ],
   "source": [
    "print(\"Porównanie czasów obliczeń:\\n 1.numpy.solve: {0};\\n 2.Metoda QR:   {1};\\n 3.numpy.lstsq: {2};\".format(times[0]/iterations, times[1]/iterations, times[2]/iterations))"
   ]
  },
  {
   "cell_type": "code",
   "execution_count": 10,
   "metadata": {},
   "outputs": [
    {
     "name": "stdout",
     "output_type": "stream",
     "text": [
      "Porównanie wyników obliczeń:\n",
      " 1.numpy.solve: \n",
      "[ 1.00000000e+00  3.30953043e-11 -8.00000000e+00  6.33265139e-08\n",
      "  1.06666656e+01  1.19343604e-05 -5.68898338e+00  5.52670067e-04\n",
      "  1.62294424e+00  8.40343848e-03 -3.11428540e-01  4.71220190e-02\n",
      " -4.24864458e-02  9.94680757e-02 -1.01489618e-01  7.35359410e-02\n",
      " -3.99003441e-02  1.50552962e-02 -3.48777868e-03  3.73212311e-04];\n",
      " 2.Metoda QR: \n",
      "[ 1.00000000e+00 -3.68372850e-11 -8.00000000e+00 -6.68223279e-08\n",
      "  1.06666678e+01 -1.18057474e-05 -5.68879853e+00 -5.10742456e-04\n",
      "  1.62758796e+00 -7.26296361e-03 -2.70154218e-01 -3.82348667e-02\n",
      "  9.60780576e-02 -7.61559381e-02  7.02589345e-02 -5.34097741e-02\n",
      "  2.86281041e-02 -1.04196293e-02  2.33851891e-03 -2.44422212e-04];\n",
      " 3.numpy.lstsq: \n",
      "[ 1.00000000e+00  1.32997475e-11 -8.00000000e+00  2.27399505e-08\n",
      "  1.06666663e+01  3.63061300e-06 -5.68891467e+00  1.32078403e-04\n",
      "  1.62489928e+00  1.38430832e-03 -2.91765386e-01  3.94194537e-03\n",
      "  3.18156585e-02 -1.48548542e-04  1.32017843e-03 -6.46255172e-03\n",
      "  5.44668767e-03 -2.60035272e-03  7.30549910e-04 -9.27605996e-05];\n"
     ]
    }
   ],
   "source": [
    "print(\"Porównanie wyników obliczeń:\\n 1.numpy.solve: \\n{0};\\n 2.Metoda QR: \\n{1};\\n 3.numpy.lstsq: \\n{2};\".format(x_1, x_2, x_3))"
   ]
  },
  {
   "cell_type": "code",
   "execution_count": 11,
   "metadata": {},
   "outputs": [
    {
     "name": "stdout",
     "output_type": "stream",
     "text": [
      "Porównanie wartości residuum:\n",
      " 1.numpy.solve: 1.887379141862766e-15;\n",
      " 2.Metoda QR:   2.55351295663786e-15;\n",
      " 3.numpy.lstsq: 7.549516567451064e-15;\n"
     ]
    }
   ],
   "source": [
    "print(\"Porównanie wartości residuum:\\n 1.numpy.solve: {0};\\n 2.Metoda QR:   {1};\\n 3.numpy.lstsq: {2};\".format( np.linalg.norm(b-np.dot(A, x_1), np.inf),  np.linalg.norm(b-np.dot(A, x_2), np.inf),  np.linalg.norm(b-np.dot(A, x_3), np.inf)))"
   ]
  },
  {
   "cell_type": "markdown",
   "metadata": {},
   "source": [
    "<a id='zad4'></a>\n",
    "***Zadanie 4.***  "
   ]
  },
  {
   "cell_type": "code",
   "execution_count": 12,
   "metadata": {},
   "outputs": [],
   "source": [
    "def create_matrix(tau):\n",
    "    A = np.ones((500,500))\n",
    "    for i in range(500):\n",
    "        for j in range(i+1, 500):\n",
    "            A[j][i] = np.random.uniform(-1, 1)\n",
    "            if(np.abs(A[j][i]) > tau):\n",
    "                A[j][i] = 0\n",
    "                A[i][j] = 0\n",
    "            else:\n",
    "                A[i][j] = A[j][i]\n",
    "    return A"
   ]
  },
  {
   "cell_type": "code",
   "execution_count": 13,
   "metadata": {},
   "outputs": [],
   "source": [
    "taus = [0.01, 0.05, 0.1, 0.2, 0.5, 0.75]\n",
    "A_conditionals = []\n",
    "solve_times = []\n",
    "bicg_times = []\n",
    "gmres_times = []\n",
    "solutions = []\n",
    "iterations = 1\n",
    "    \n",
    "b = np.array([np.random.uniform(-1,1) for x in range(500)])\n",
    "\n",
    "for tau in taus:        \n",
    "    A = create_matrix(tau)\n",
    "    A_conditionals.append(np.linalg.cond(A))\n",
    "    sparse_A = scipy.sparse.csr_matrix(A)\n",
    "    solution = []\n",
    "    iteration_solutions = []\n",
    "    \n",
    "    start = time.time()\n",
    "    for i in range(iterations):\n",
    "        solution = np.linalg.solve(A, b)\n",
    "    solve_times.append((time.time()-start)/iterations)\n",
    "    iteration_solutions.append(solution)\n",
    "    \n",
    "    start = time.time()\n",
    "    for i in range(iterations):\n",
    "        solution, success = sc_sp.bicg(A, b, atol='legacy')\n",
    "    bicg_times.append((time.time()-start)/iterations)\n",
    "    iteration_solutions.append(solution)\n",
    "    \n",
    "    # Niestety poniższa metoda zwraca wynikmi w czasie ponad 20s. Wykonanie jej iterations = 10000 razy,\n",
    "    # jak powyższych metod, jest zbyt czasochłonne, lecz czas ten jest na tyle duży w porównaniu do poprzednich dwóch metod,\n",
    "    # że można pominąć jej wykonywanie tyle razy\n",
    "    iterations = 3\n",
    "    start = time.time()\n",
    "    for i in range(iterations):\n",
    "        solution, succes = sc_sp.gmres(A, b, atol='legacy')\n",
    "    gmres_times.append((time.time() - start)/iterations)\n",
    "    iteration_solutions.append(solution)\n",
    "    solutions.append(iteration_solutions)"
   ]
  },
  {
   "cell_type": "code",
   "execution_count": 14,
   "metadata": {},
   "outputs": [
    {
     "data": {
      "image/png": "[encoded data removed]",
      "text/plain": [
       "<Figure size 1008x504 with 1 Axes>"
      ]
     },
     "metadata": {
      "needs_background": "light"
     },
     "output_type": "display_data"
    }
   ],
   "source": [
    "plt.figure(figsize=(14,7))\n",
    "plt.scatter(taus, A_conditionals, label='Wartości tau')\n",
    "plt.title('Wykres zależnosci współczynnika uwarunkowania macierzy A od wartości tau:')\n",
    "plt.xlabel('Tau')\n",
    "plt.ylabel('Cond(A)')\n",
    "plt.grid()\n",
    "plt.legend()\n",
    "plt.show()"
   ]
  },
  {
   "cell_type": "code",
   "execution_count": 15,
   "metadata": {},
   "outputs": [
    {
     "data": {
      "image/png": "[encoded data removed]",
      "text/plain": [
       "<Figure size 1008x504 with 1 Axes>"
      ]
     },
     "metadata": {
      "needs_background": "light"
     },
     "output_type": "display_data"
    }
   ],
   "source": [
    "plt.figure(figsize=(14,7))\n",
    "plt.scatter(A_conditionals, solve_times, label='numpy.solve')\n",
    "plt.scatter(A_conditionals, bicg_times,  label='scipy.sparse.linalg.bicg')\n",
    "plt.scatter(A_conditionals, gmres_times, label='scipy.sparse.linalg.gmres')\n",
    "plt.title('Wykres zależnosci czasu rozwiązania równania Ax = b  w zależności od współczynnika uwarunkowania macierzy A:')\n",
    "plt.xlabel('Cond(A)')\n",
    "plt.ylabel('T[ms]')\n",
    "plt.gca().set_yscale('log')\n",
    "plt.gca().set_xscale('log')\n",
    "plt.grid()\n",
    "plt.legend()\n",
    "plt.show()"
   ]
  },
  {
   "cell_type": "markdown",
   "metadata": {},
   "source": [
    "#### Dla macierzy dobrze uwarunkowanych scipy.sparse.linalg.gmres działa najszybciej, natomiast przy dużych warościach cond(A) metoda ta jest o ponad 3 klasy wielkości wolniejsza od funkcji numpy.solve."
   ]
  },
  {
   "cell_type": "markdown",
   "metadata": {},
   "source": [
    "<a id='zad5'></a>\n",
    "***Zadanie 5.***  "
   ]
  },
  {
   "cell_type": "code",
   "execution_count": 16,
   "metadata": {},
   "outputs": [
    {
     "name": "stdout",
     "output_type": "stream",
     "text": [
      "[0.06666667 6.13333333]\n",
      "[0.06666667 6.13333333]\n"
     ]
    }
   ],
   "source": [
    "def gauss_seidl(A, b, epsilon=1e-10):\n",
    "    L = np.tril(A)\n",
    "    D = np.diag(A)\n",
    "    U = np.triu(A)\n",
    "    M_gs = np.dot((-1) * np.linalg.inv(L + D), U)\n",
    "    # Sprawdzanie zbierzności\n",
    "    #\n",
    "    if (max(np.abs(np.linalg.eigvals(M_gs)) > 1)):\n",
    "        return False\n",
    "    \n",
    "    x = np.zeros(len(A))\n",
    "    next_x = np.array(x)\n",
    "    for i in range(len(A)):\n",
    "        next_x[i] = (-1) / A[i][i] * (sum([A[i][j] * next_x[j] for j in range(0, i)]) + sum([A[i][j] * x[j] for j in range(i + 1, len(A))])) + b[i] / A[i][i]\n",
    "        \n",
    "    while (np.linalg.norm(next_x - x, 1) >= epsilon):\n",
    "        x = next_x\n",
    "        for i in range(len(A)):\n",
    "            next_x[i] = (-1) / A[i][i] * (sum([A[i][j] * next_x[j] for j in range(0, i)]) + sum([A[i][j] * x[j] for j in range(i + 1, len(A))])) + b[i] / A[i][i]\n",
    "    return next_x\n",
    "\n",
    "\n",
    "# A = np.array([[1,2,3],[2,1,3],[3,2,1]])\n",
    "# b = np.array([1,2,0])\n",
    "\n",
    "A = np.array([[15,0],[-1,0.5]])\n",
    "b = np.array([1,3])\n",
    "\n",
    "print(gauss_seidl(A, b))\n",
    "print(np.linalg.solve(A, b))"
   ]
  },
  {
   "cell_type": "markdown",
   "metadata": {},
   "source": [
    "#### Powyzej zaimplementowana metoda Gaussa-Seidla zwraca poprawne wyniki (porównane z np.linalg.solve). Natomiast dla podanego przykładu metoda ta nie zwraca wyników, gdyż macierz ta nie spełnia warunku zbieżnosci tej metody - jej promień spektralny jest większy od 1."
   ]
  }
 ],
 "metadata": {
  "kernelspec": {
   "display_name": "Python 3",
   "language": "python",
   "name": "python3"
  },
  "language_info": {
   "codemirror_mode": {
    "name": "ipython",
    "version": 3
   },
   "file_extension": ".py",
   "mimetype": "text/x-python",
   "name": "python",
   "nbconvert_exporter": "python",
   "pygments_lexer": "ipython3",
   "version": "3.7.0"
  }
 },
 "nbformat": 4,
 "nbformat_minor": 2
}
