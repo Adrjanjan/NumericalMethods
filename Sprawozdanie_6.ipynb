{
 "cells": [
  {
   "cell_type": "markdown",
   "metadata": {},
   "source": [
    "## Sprawozdanie 6 ##\n",
    "### Adrian Janakiewicz ###"
   ]
  },
  {
   "cell_type": "markdown",
   "metadata": {},
   "source": [
    "#### Imports ####"
   ]
  },
  {
   "cell_type": "code",
   "execution_count": 1,
   "metadata": {},
   "outputs": [],
   "source": [
    "from scipy.integrate import romberg, quad, dblquad\n",
    "from scipy.optimize import newton\n",
    "import numpy as np\n",
    "from scipy.interpolate import interp1d"
   ]
  },
  {
   "cell_type": "markdown",
   "metadata": {},
   "source": [
    "<a id='zad1'></a>\n",
    "***Zadanie 1.***  "
   ]
  },
  {
   "cell_type": "code",
   "execution_count": 2,
   "metadata": {},
   "outputs": [],
   "source": [
    "a = 0\n",
    "b = 1\n",
    "f = lambda x : np.exp(-2*x)\n",
    "n = 10"
   ]
  },
  {
   "cell_type": "code",
   "execution_count": 3,
   "metadata": {},
   "outputs": [
    {
     "data": {
      "text/plain": [
       "0.43233235838169365"
      ]
     },
     "execution_count": 3,
     "metadata": {},
     "output_type": "execute_result"
    }
   ],
   "source": [
    "#Ad. 1 Metoda analityczna\n",
    "int_f = lambda x : -0.5 * np.exp(-2*x)\n",
    "I_a = int_f(1) - int_f(0)\n",
    "I_a"
   ]
  },
  {
   "cell_type": "code",
   "execution_count": 4,
   "metadata": {},
   "outputs": [
    {
     "data": {
      "text/plain": [
       "0.36787944117144233"
      ]
     },
     "execution_count": 4,
     "metadata": {},
     "output_type": "execute_result"
    }
   ],
   "source": [
    "#Ad. 2 Metoda prostokątów\n",
    "I_0 = (b-a)*(f((a+b)/2))\n",
    "I_0"
   ]
  },
  {
   "cell_type": "code",
   "execution_count": 5,
   "metadata": {},
   "outputs": [
    {
     "data": {
      "text/plain": [
       "0.5676676416183064"
      ]
     },
     "execution_count": 5,
     "metadata": {},
     "output_type": "execute_result"
    }
   ],
   "source": [
    "#Ad. 3 Prosta metoda trapezów\n",
    "I_1 = 0.5 * (b-a)*(f(a) + f(b))\n",
    "I_1"
   ]
  },
  {
   "cell_type": "code",
   "execution_count": 6,
   "metadata": {},
   "outputs": [
    {
     "data": {
      "text/plain": [
       "0.4344755079870637"
      ]
     },
     "execution_count": 6,
     "metadata": {},
     "output_type": "execute_result"
    }
   ],
   "source": [
    "#Ad. 4 Prosta metoda Simpsona\n",
    "I_2 = 1./6 * (b-a)*(f(a) + 4 * f((a+b)/2) + f(b))\n",
    "I_2"
   ]
  },
  {
   "cell_type": "code",
   "execution_count": 7,
   "metadata": {},
   "outputs": [
    {
     "data": {
      "text/plain": [
       "0.4337725064184668"
      ]
     },
     "execution_count": 7,
     "metadata": {},
     "output_type": "execute_result"
    }
   ],
   "source": [
    "#Ad. 5 Złożona metoda trapezów\n",
    "step = (b-a)/n\n",
    "I_3 = sum(0.5 * step*(f(a + i * step) + f(a + (i+1) * step)) for i in range(n))    \n",
    "I_3"
   ]
  },
  {
   "cell_type": "code",
   "execution_count": 8,
   "metadata": {},
   "outputs": [
    {
     "data": {
      "text/plain": [
       "0.4323325982807031"
      ]
     },
     "execution_count": 8,
     "metadata": {},
     "output_type": "execute_result"
    }
   ],
   "source": [
    "#Ad. 6 Złożona metoda Simpsona\n",
    "I_4 = sum(1./6 * step*(f(a + i * step) + 4 * f((2*a+(2*i+1)*step)/2) + f(a + (i+1) * step)) for i in range(n))   \n",
    "I_4"
   ]
  },
  {
   "cell_type": "code",
   "execution_count": 9,
   "metadata": {},
   "outputs": [
    {
     "data": {
      "text/plain": [
       "0.43233235838943557"
      ]
     },
     "execution_count": 9,
     "metadata": {},
     "output_type": "execute_result"
    }
   ],
   "source": [
    "#Ad. 7 Metoda Romberga\n",
    "I_5 = romberg(f, a, b, tol=1e-6)\n",
    "I_5"
   ]
  },
  {
   "cell_type": "code",
   "execution_count": 10,
   "metadata": {},
   "outputs": [
    {
     "data": {
      "text/plain": [
       "0.4323323583816936"
      ]
     },
     "execution_count": 10,
     "metadata": {},
     "output_type": "execute_result"
    }
   ],
   "source": [
    "# Ad.8 Metoda scipy.integrate.quad\n",
    "I_6, err = quad(f, a, b)\n",
    "I_6"
   ]
  },
  {
   "cell_type": "code",
   "execution_count": 11,
   "metadata": {},
   "outputs": [
    {
     "name": "stdout",
     "output_type": "stream",
     "text": [
      "0.06445291721025131\n",
      "0.13533528323661276\n",
      "0.0021431496053700427\n",
      "0.00144014803677317\n",
      "2.398990094354403e-07\n",
      "7.741918217618604e-12\n",
      "5.551115123125783e-17\n"
     ]
    }
   ],
   "source": [
    "print(np.fabs(I_a-I_0))\n",
    "print(np.fabs(I_a-I_1))\n",
    "print(np.fabs(I_a-I_2))\n",
    "print(np.fabs(I_a-I_3))\n",
    "print(np.fabs(I_a-I_4))\n",
    "print(np.fabs(I_a-I_5))\n",
    "print(np.fabs(I_a-I_6))"
   ]
  },
  {
   "cell_type": "markdown",
   "metadata": {},
   "source": [
    "Najbardziej zbliżone do wyniku analitycznego wyniki daje metoda quad z biblioteki scipy, jednakże medody romberga oraz złożona metoda Simpsona również dały bardzo zbliżone wyniki."
   ]
  },
  {
   "cell_type": "markdown",
   "metadata": {},
   "source": [
    "<a id='zad2'></a>\n",
    "***Zadanie 2.***  "
   ]
  },
  {
   "cell_type": "code",
   "execution_count": 8,
   "metadata": {},
   "outputs": [],
   "source": [
    "def ex_2_trapezoid_method():\n",
    "    n = 10000\n",
    "    g = lambda x: 1/np.sqrt(2*np.pi) * np.exp(-0.5*x**2)\n",
    "    p0 = 0.5\n",
    "    epsilon = 1e-5\n",
    "\n",
    "    polynomial = lambda x: sum(0.5 * (x/n) *(g(i * (x/n)) + g((i+1) * (x/n))) for i in range(n)) - 0.45\n",
    "    return newton(polynomial, p0, g, tol=epsilon)\n",
    "    \n",
    "def ex_2_simpson_method():\n",
    "    n = 10000\n",
    "    g = lambda x: 1/np.sqrt(2*np.pi) * np.exp(-0.5*x**2)\n",
    "    p0 = 0.5\n",
    "    epsilon = 1e-5\n",
    "    \n",
    "    polynomial = lambda x : sum(1./6 * (x/n)*(g(i * (x/n)) + 4 * g(((2*i+1)*(x/n))/2) + g((i+1) * (x/n))) for i in range(n)) - 0.45\n",
    "    return newton(polynomial, p0, g, tol=epsilon)     "
   ]
  },
  {
   "cell_type": "code",
   "execution_count": 9,
   "metadata": {},
   "outputs": [],
   "source": [
    "trapez = ex_2_trapezoid_method()\n",
    "simps  = ex_2_simpson_method()"
   ]
  },
  {
   "cell_type": "code",
   "execution_count": 10,
   "metadata": {},
   "outputs": [
    {
     "name": "stdout",
     "output_type": "stream",
     "text": [
      " Metoda  |     Wartość ref.   |   Błąd bezwzgledny \n",
      "---------|--------------------|--------------------\n",
      "Trapezów | 1.6448536306599977 | 3.7085254867008643e-09\n",
      "Simpsona | 1.6448536269514749 | 2.6645352591003757e-15\n"
     ]
    }
   ],
   "source": [
    "from scipy.stats import norm\n",
    "# 0.45 = norm.cdf(result) - norm.cdf(0)\n",
    "# 0.45 + 0.5 = norm.cdf(result)\n",
    "# norm.cdf^-1 = norm.ppf \n",
    "wart_ref = norm.ppf(0.45+norm.cdf(0))\n",
    "print(\" Metoda  |     Wartość ref.   |   Błąd bezwzgledny \")\n",
    "print(\"---------|--------------------|--------------------\")\n",
    "print(\"Trapezów | {} | {}\". format(trapez, np.fabs(wart_ref - trapez) ))\n",
    "print(\"Simpsona | {} | {}\". format(simps , np.fabs(wart_ref - simps ) ))"
   ]
  },
  {
   "cell_type": "markdown",
   "metadata": {},
   "source": [
    "<a id='zad3'></a>\n",
    "***Zadanie 3.***  "
   ]
  },
  {
   "cell_type": "code",
   "execution_count": 2,
   "metadata": {},
   "outputs": [],
   "source": [
    "time  = [.0, .5, 1., 2., 3., 4.]\n",
    "accel = [-4.5, -4.5, -2.3, -1., -0.5, .0]\n",
    "avg_speed_time = (0., 0.5)"
   ]
  },
  {
   "cell_type": "code",
   "execution_count": 4,
   "metadata": {},
   "outputs": [
    {
     "name": "stdout",
     "output_type": "stream",
     "text": [
      "Droga hamowania 6.331502525070518\n",
      "Średnia predkość na przedziale [0, 0.5]: 5.219239267447779\n"
     ]
    }
   ],
   "source": [
    "acceleration = interp1d(time, accel, kind='cubic', fill_value='extrapolate')\n",
    "sp = [quad(acceleration, 0, 4)[0]]\n",
    "for t in time:\n",
    "    sp.append(sp[0] - quad(acceleration, 0,t)[0])\n",
    "sp.pop(0)\n",
    "speed = interp1d(time, sp, kind='cubic', fill_value='extrapolate')\n",
    "\n",
    "droga = np.fabs(quad(speed, 0, 4)[0])\n",
    "droga2 = np.fabs(quad(speed, 0, 0.5)[0])\n",
    "print(\"Droga hamowania {}\".format(droga))\n",
    "print(\"Średnia predkość na przedziale [0, 0.5]: {}\".format(droga2/0.5))"
   ]
  },
  {
   "cell_type": "markdown",
   "metadata": {},
   "source": [
    "<a id='zad4'></a>\n",
    "***Zadanie 4.***  "
   ]
  },
  {
   "cell_type": "code",
   "execution_count": 17,
   "metadata": {},
   "outputs": [],
   "source": [
    "D = 4.8\n",
    "A = 0.1 \n",
    "T = 0.2\n",
    "f = lambda x : A * np.sin(2*np.pi*x/T)\n",
    "f_prime = lambda x : 2*np.pi*A/T*np.cos(2*np.pi/T*x)\n",
    "length_help = lambda x: np.sqrt(1+ f_prime(x)**2)"
   ]
  },
  {
   "cell_type": "code",
   "execution_count": 18,
   "metadata": {},
   "outputs": [],
   "source": [
    "def ex_4_trapezoid_method(n):\n",
    "    step = D/n\n",
    "    return sum(0.5 * step*(length_help(i * step) + length_help((i+1) * step)) for i in range(n))\n",
    "    \n",
    "def ex_4_simpson_method(n):\n",
    "    step = D/n\n",
    "    return sum(1./6 * step*(length_help(i * step) + 4 * length_help(((2*i+1)*step)/2) + length_help((i+1) * step)) for i in range(n))   \n",
    "\n",
    "def ex_4_romberg_method():\n",
    "    return romberg(length_help, 0, D)"
   ]
  },
  {
   "cell_type": "code",
   "execution_count": 19,
   "metadata": {},
   "outputs": [
    {
     "name": "stdout",
     "output_type": "stream",
     "text": [
      "Metoda trapezów: 11.063484774497706\n",
      "Metoda Simpsona: 11.063484774497736\n",
      "Metoda Romberga: 15.825159885482952\n"
     ]
    }
   ],
   "source": [
    "print(\"Metoda trapezów: {}\".format(ex_4_trapezoid_method(1000)))\n",
    "print(\"Metoda Simpsona: {}\".format(ex_4_simpson_method(1000)))\n",
    "print(\"Metoda Romberga: {}\".format(ex_4_romberg_method()))"
   ]
  },
  {
   "cell_type": "code",
   "execution_count": 20,
   "metadata": {},
   "outputs": [
    {
     "data": {
      "text/plain": [
       "<Figure size 2000x500 with 1 Axes>"
      ]
     },
     "metadata": {},
     "output_type": "display_data"
    }
   ],
   "source": [
    "import matplotlib.pyplot as plt\n",
    "x = [i for i in range(1,101)]\n",
    "y_t = [ex_4_trapezoid_method(i) for i in x]\n",
    "y_s = [ex_4_simpson_method(i) for i in x]\n",
    "\n",
    "plt.figure(figsize=(20, 5))\n",
    "plt.scatter(x, y_t, label='Metoda trapezów')\n",
    "plt.scatter(x, y_s, label='Metoda Simpsona')\n",
    "plt.legend()\n",
    "plt.show()"
   ]
  },
  {
   "cell_type": "markdown",
   "metadata": {},
   "source": [
    "Dla badanego przypadku złożna metoda trapezów oraz złożona metoda Simpsona zwracają coraz bardziej zbliżone wyniki (zgodność nawet do 13 miejsc po przecinku).\n",
    "Natomiast metoda Romberga zwraca niepoprawny wynik znacznie różny od pozostałych, aczkolwiek nie przypadkowy. Jest on bowiem zbliżony do wyników pierwszysch dwóch metod dla małej ilości przedziałów."
   ]
  },
  {
   "cell_type": "code",
   "execution_count": null,
   "metadata": {},
   "outputs": [],
   "source": []
  },
  {
   "cell_type": "code",
   "execution_count": null,
   "metadata": {},
   "outputs": [],
   "source": []
  }
 ],
 "metadata": {
  "kernelspec": {
   "display_name": "Python 3",
   "language": "python",
   "name": "python3"
  },
  "language_info": {
   "codemirror_mode": {
    "name": "ipython",
    "version": 3
   },
   "file_extension": ".py",
   "mimetype": "text/x-python",
   "name": "python",
   "nbconvert_exporter": "python",
   "pygments_lexer": "ipython3",
   "version": "3.7.0"
  }
 },
 "nbformat": 4,
 "nbformat_minor": 2
}
