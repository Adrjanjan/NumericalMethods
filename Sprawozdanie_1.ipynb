{
 "cells": [
  {
   "cell_type": "markdown",
   "metadata": {
    "collapsed": true
   },
   "source": [
    "## <center>Sprawozdanie 1</center>\n",
    "<center>Adrian Janakiewicz</center>"
   ]
  },
  {
   "cell_type": "markdown",
   "metadata": {},
   "source": [
    "***Imports***"
   ]
  },
  {
   "cell_type": "code",
   "execution_count": 77,
   "metadata": {},
   "outputs": [],
   "source": [
    "from math import sqrt, pi, sin, exp\n",
    "from numpy import array, transpose, roots, linspace, arange\n",
    "from numpy.linalg import inv, det\n",
    "import matplotlib.pyplot as plt\n",
    "from pandas import DataFrame"
   ]
  },
  {
   "cell_type": "markdown",
   "metadata": {},
   "source": [
    "<a id='zad1'></a>\n",
    "***Zadanie 1.***   "
   ]
  },
  {
   "cell_type": "code",
   "execution_count": 15,
   "metadata": {},
   "outputs": [],
   "source": [
    "k = 1240 * sqrt(7)\n",
    "m = 4467\n",
    "l = 2j\n",
    "d = k + m\n",
    "c = d + l"
   ]
  },
  {
   "cell_type": "code",
   "execution_count": 13,
   "metadata": {
    "scrolled": true
   },
   "outputs": [
    {
     "name": "stdout",
     "output_type": "stream",
     "text": [
      "k = 3280.7316257200923\n",
      "m = 4467\n",
      "l = 2j\n",
      "d = 7747.731625720093\n",
      "c = (7747.731625720093+2j)\n"
     ]
    }
   ],
   "source": [
    "print(\"k =\", k)\n",
    "print(\"m =\", m)\n",
    "print(\"l =\", l)\n",
    "print(\"d =\", d)\n",
    "print(\"c =\", c)"
   ]
  },
  {
   "cell_type": "markdown",
   "metadata": {},
   "source": [
    "<a id='zad2'></a>\n",
    "***Zadanie 2.***   "
   ]
  },
  {
   "cell_type": "code",
   "execution_count": 10,
   "metadata": {},
   "outputs": [
    {
     "name": "stdout",
     "output_type": "stream",
     "text": [
      "7747.732\n",
      "7747.731625720093\n",
      "7747.73162572009277937468\n"
     ]
    }
   ],
   "source": [
    "print(\"{0:0.3f}\".format(d))\n",
    "print(d)\n",
    "print(\"{0:0.20f}\".format(d))"
   ]
  },
  {
   "cell_type": "markdown",
   "metadata": {},
   "source": [
    "<a id='zad3'></a>\n",
    "***Zadanie 3.***"
   ]
  },
  {
   "cell_type": "code",
   "execution_count": 82,
   "metadata": {},
   "outputs": [
    {
     "data": {
      "text/plain": [
       "5340.707511102649"
      ]
     },
     "execution_count": 82,
     "metadata": {},
     "output_type": "execute_result"
    }
   ],
   "source": [
    "radius = 17\n",
    "height = 33\n",
    "Surface_area = 2 * pi * radius * (height + radius)\n",
    "Surface_area"
   ]
  },
  {
   "cell_type": "markdown",
   "metadata": {},
   "source": [
    "<a id='zad5'></a>\n",
    "***Zadanie 5.***"
   ]
  },
  {
   "cell_type": "code",
   "execution_count": 21,
   "metadata": {},
   "outputs": [
    {
     "data": {
      "text/plain": [
       "0.5809230838528177"
      ]
     },
     "execution_count": 21,
     "metadata": {},
     "output_type": "execute_result"
    }
   ],
   "source": [
    "x1 = 1\n",
    "r = 2\n",
    "t = 3\n",
    "\n",
    "B = (x1 + r) / (r * sin(2 * x1) + 3.3456) * x1 ** (t * r)\n",
    "B"
   ]
  },
  {
   "cell_type": "markdown",
   "metadata": {},
   "source": [
    "<a id='zad6'></a>\n",
    "***Zadanie 6.***"
   ]
  },
  {
   "cell_type": "code",
   "execution_count": 50,
   "metadata": {},
   "outputs": [
    {
     "name": "stdout",
     "output_type": "stream",
     "text": [
      "          0         1         2\n",
      "0  1.414214  1.000000 -1.414214\n",
      "1  0.000000  1.000000  1.000000\n",
      "2 -1.414214  1.414214  1.000000\n",
      "          0    1         2\n",
      "0  1.414214  0.0 -1.414214\n",
      "1  1.000000  1.0  1.414214\n",
      "2 -1.414214  1.0  1.000000\n",
      "          0         1         2\n",
      "0  0.103553  0.750000 -0.603553\n",
      "1  0.353553  0.146447  0.353553\n",
      "2 -0.353553  0.853553 -0.353553\n",
      "\n",
      "det(M) =  -4.0\n"
     ]
    }
   ],
   "source": [
    "a = sqrt(2)\n",
    "\n",
    "M = array([[a, 1, -a], [0, 1, 1], [-a, a, 1]])\n",
    "MT = transpose(M)\n",
    "M_1 = inv(M)\n",
    "detM = det(M)\n",
    "\n",
    "# Lepsze wyświetlanie jako DataFrame w porównaniu do zwykłego przekazania do print()\n",
    "print(DataFrame(M))\n",
    "print(DataFrame(MT))\n",
    "print(DataFrame(M_1))\n",
    "print()\n",
    "print(\"det(M) = \", detM) "
   ]
  },
  {
   "cell_type": "markdown",
   "metadata": {},
   "source": [
    "<a id='zad7'></a>\n",
    "***Zadanie 7.***"
   ]
  },
  {
   "cell_type": "code",
   "execution_count": 85,
   "metadata": {},
   "outputs": [
    {
     "name": "stdout",
     "output_type": "stream",
     "text": [
      "1.4142135623730951\n",
      "1.0\n",
      "1.4142135623730951\n",
      "\n",
      "[-1.41421356  1.          1.        ]\n",
      "[-1.41421356  1.41421356  1.        ]\n"
     ]
    }
   ],
   "source": [
    "print(\"{0}\".format(M[0][0]))\n",
    "print(\"{0}\".format(M[2][2]))\n",
    "print(\"{0}\\n\".format(M[2][1]))\n",
    "\n",
    "w1 = M[:, 2]\n",
    "w2 = M[2, :]\n",
    "print(w1, w2, sep='\\n')"
   ]
  },
  {
   "cell_type": "markdown",
   "metadata": {},
   "source": [
    "<a id='zad8'></a>\n",
    "***Zadanie 8.***"
   ]
  },
  {
   "cell_type": "code",
   "execution_count": 58,
   "metadata": {},
   "outputs": [
    {
     "name": "stdout",
     "output_type": "stream",
     "text": [
      "Miejsca zerowe:\n",
      " [ 5.  3.  2. -2. -1.]\n",
      "\n",
      "Ewaluacja:\n",
      " [-8.952838470577262e-13, 0.0, -2.842170943040401e-14, 9.237055564881302e-14, 1.4210854715202004e-14]\n",
      "\n",
      "Wyniki nie przedstawiaja samych zer z powodu błędu reprezentacji.\n"
     ]
    }
   ],
   "source": [
    "#Obliczenie pierwiastków\n",
    "p = [1, -7, 3, 43, -28, -60]\n",
    "print(\"Miejsca zerowe:\\n {0}\\n\".format(roots(p)))\n",
    "\n",
    "#Ewaluacja poprawności wyników\n",
    "def y(x):\n",
    "    return x*( x*( x*( x*( x - 7 )+ 3 ) + 43 ) - 28 ) - 60\n",
    "print(\"Ewaluacja:\\n {0}\\n\".format([y(i) for i in roots(p)]))\n",
    "print(\"Wyniki nie przedstawiaja samych zer z powodu błędu reprezentacji.\")"
   ]
  },
  {
   "cell_type": "markdown",
   "metadata": {},
   "source": [
    "<a id='zad9'></a>\n",
    "***Zadanie 9.***"
   ]
  },
  {
   "cell_type": "code",
   "execution_count": 86,
   "metadata": {},
   "outputs": [
    {
     "name": "stdout",
     "output_type": "stream",
     "text": [
      "[-5.00000000e+00 -4.66666667e+00 -4.33333333e+00 -4.00000000e+00\n",
      " -3.66666667e+00 -3.33333333e+00 -3.00000000e+00 -2.66666667e+00\n",
      " -2.33333333e+00 -2.00000000e+00 -1.66666667e+00 -1.33333333e+00\n",
      " -1.00000000e+00 -6.66666667e-01 -3.33333333e-01 -4.44089210e-15\n",
      "  3.33333333e-01  6.66666667e-01  1.00000000e+00  1.33333333e+00\n",
      "  1.66666667e+00  2.00000000e+00  2.33333333e+00  2.66666667e+00\n",
      "  3.00000000e+00  3.33333333e+00  3.66666667e+00  4.00000000e+00\n",
      "  4.33333333e+00  4.66666667e+00]\n",
      "\n",
      "[-5.         -4.66666667 -4.33333333 -4.         -3.66666667 -3.33333333\n",
      " -3.         -2.66666667 -2.33333333 -2.         -1.66666667 -1.33333333\n",
      " -1.         -0.66666667 -0.33333333  0.          0.33333333  0.66666667\n",
      "  1.          1.33333333  1.66666667  2.          2.33333333  2.66666667\n",
      "  3.          3.33333333  3.66666667  4.          4.33333333  4.66666667\n",
      "  5.        ]\n",
      "\n"
     ]
    }
   ],
   "source": [
    "x = arange(-5, 5, (1.0 / 3))\n",
    "print(\"{0}\\n\".format(x))\n",
    "\n",
    "z = linspace(-5, 5, num=31)\n",
    "print(\"{0}\\n\".format(z))"
   ]
  },
  {
   "cell_type": "markdown",
   "metadata": {},
   "source": [
    "Przedstawiony jest tutaj ten sam ciąg w reprezentacji wykonanej przez dwie funkcje z różnych bibliotek. \n",
    "W pierwszej zauważalny jest **błąd reprezentacji** (szczególnie \"w zerze\"), natomiast druga nie ma tego problemu, z czego można wysunąć wniosek, że korzystają one z różnych algorytmów obliczania wartości wyrazów ciągu."
   ]
  },
  {
   "cell_type": "markdown",
   "metadata": {},
   "source": [
    "<a id='zad10'></a>\n",
    "***Zadanie 10.***"
   ]
  },
  {
   "cell_type": "code",
   "execution_count": 70,
   "metadata": {
    "scrolled": false
   },
   "outputs": [
    {
     "data": {
      "image/png": "[encoded data removed]",
      "text/plain": [
       "<Figure size 432x288 with 1 Axes>"
      ]
     },
     "metadata": {
      "needs_background": "light"
     },
     "output_type": "display_data"
    },
    {
     "data": {
      "image/png": "[encoded data removed]",
      "text/plain": [
       "<Figure size 432x288 with 1 Axes>"
      ]
     },
     "metadata": {
      "needs_background": "light"
     },
     "output_type": "display_data"
    },
    {
     "data": {
      "image/png": "[encoded data removed]",
      "text/plain": [
       "<Figure size 432x288 with 1 Axes>"
      ]
     },
     "metadata": {
      "needs_background": "light"
     },
     "output_type": "display_data"
    }
   ],
   "source": [
    "z = lambda x: x ** 3 - 3 * x\n",
    "\n",
    "x = [linspace(-1, 1), linspace(-5, 5), linspace(0, 5)]\n",
    "\n",
    "y = [[z(i) for i in x[0]], [z(i) for i in x[1]], [z(i) for i in x[2]]]\n",
    "\n",
    "for i in range(0, 3):\n",
    "    plt.plot(x[i], y[i])\n",
    "    plt.title('Wykres {0}:'.format(i+1))\n",
    "    plt.xlabel('x')\n",
    "    plt.ylabel('y')\n",
    "    plt.legend('Wykres {0}'.format(i+1))\n",
    "    plt.show()"
   ]
  },
  {
   "cell_type": "markdown",
   "metadata": {},
   "source": [
    "<a id='zad11'></a>\n",
    "***Zadanie 11.***"
   ]
  },
  {
   "cell_type": "code",
   "execution_count": 89,
   "metadata": {},
   "outputs": [
    {
     "name": "stdout",
     "output_type": "stream",
     "text": [
      "4500.0 J\n",
      "1.07480653482375  Kcal\n"
     ]
    }
   ],
   "source": [
    "m = 2.500\n",
    "v = 60\n",
    "mass = 3\n",
    "vel = linspace(200, 0)\n",
    "multiplier_J_to_Kcal = 0.0002388458966275\n",
    "\n",
    "def Q(m, v):\n",
    "    return m * v * v / 2\n",
    "\n",
    "print(Q(m, v), end=\" J\\n\")\n",
    "print(Q(m, v) * multiplier_J_to_Kcal, \" Kcal\")"
   ]
  },
  {
   "cell_type": "code",
   "execution_count": 104,
   "metadata": {
    "scrolled": false
   },
   "outputs": [
    {
     "data": {
      "image/png": "[encoded data removed]",
      "text/plain": [
       "<Figure size 432x288 with 1 Axes>"
      ]
     },
     "metadata": {
      "needs_background": "light"
     },
     "output_type": "display_data"
    }
   ],
   "source": [
    "plt.plot(vel, Q(mass, vel))\n",
    "plt.title('Wykres Q(v)\\n [skala liniowa]:')\n",
    "plt.xlabel('v [km/h]')\n",
    "plt.ylabel('Q [ J ]')\n",
    "plt.legend('y')\n",
    "plt.show()"
   ]
  },
  {
   "cell_type": "code",
   "execution_count": 102,
   "metadata": {
    "scrolled": true
   },
   "outputs": [
    {
     "data": {
      "image/png": "[encoded data removed]",
      "text/plain": [
       "<Figure size 432x288 with 1 Axes>"
      ]
     },
     "metadata": {
      "needs_background": "light"
     },
     "output_type": "display_data"
    }
   ],
   "source": [
    "plt.semilogy(vel, Q(mass, vel), basey=10)\n",
    "plt.title('Wykres Q(v)\\n [skala logarytmiczna]:')\n",
    "plt.xlabel('v [ km/h ]')\n",
    "plt.ylabel('Q [ J ]')\n",
    "plt.legend('y')\n",
    "plt.show()"
   ]
  }
 ],
 "metadata": {
  "kernelspec": {
   "display_name": "Python 3",
   "language": "python",
   "name": "python3"
  },
  "language_info": {
   "codemirror_mode": {
    "name": "ipython",
    "version": 3
   },
   "file_extension": ".py",
   "mimetype": "text/x-python",
   "name": "python",
   "nbconvert_exporter": "python",
   "pygments_lexer": "ipython3",
   "version": "3.7.0"
  }
 },
 "nbformat": 4,
 "nbformat_minor": 1
}
